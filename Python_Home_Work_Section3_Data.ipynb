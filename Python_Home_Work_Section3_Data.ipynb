{
 "cells": [
  {
   "cell_type": "code",
   "execution_count": 1,
   "metadata": {},
   "outputs": [],
   "source": [
    "#Data \n",
    "revenue = [14574.49, 7606.46, 8611.41, 9175.41, 8058.65, 8105.44, 11496.28, 9766.09, 10305.32, 14379.96, 10713.97, 15433.50]\n",
    "expenses = [12051.82, 5695.07, 12319.20, 12089.72, 8658.57, 840.20, 3285.73, 5821.12, 6976.93, 16618.61, 10054.37, 3803.96]"
   ]
  },
  {
   "cell_type": "code",
   "execution_count": 20,
   "metadata": {},
   "outputs": [
    {
     "name": "stdout",
     "output_type": "stream",
     "text": [
      "[2522.67, 1911.39, -3707.79, -2914.31, -599.92, 7265.24, 8210.55, 3944.97, 3328.39, -2238.65, 659.6, 11629.54]\n",
      "[75.68, 57.34, -111.23, -87.43, -18.0, 217.96, 246.32, 118.35, 99.85, -67.16, 19.79, 348.89]\n",
      "[1, 1, -1, -1, 0, 3, 2, 1, 1, 0, 0, 2]\n",
      "[True, False, False, False, False, True, True, True, True, False, False, True]\n",
      "[False, True, True, True, True, False, False, False, False, True, True, False]\n",
      "[False, False, False, False, False, False, False, False, False, False, False, True]\n",
      "[False, False, True, False, False, False, False, False, False, False, False, False]\n"
     ]
    }
   ],
   "source": [
    "import numpy as np\n",
    "profit=[]\n",
    "profittax=[]\n",
    "profitmarg=[]\n",
    "for i in range(len(revenue)):\n",
    "    p = revenue[i]-expenses[i]\n",
    "    profit.append(round(p,2))\n",
    "    paftert = round(p*0.03,2)\n",
    "    profittax.append(paftert)\n",
    "    profitmarg.append(round((paftert/revenue[i])*100))\n",
    "mean = sum(profittax)/len(profittax)\n",
    "good = [ profittax[i]>mean for i in range(len(profittax)) ]\n",
    "bad = [ profittax[i]<mean for i in range(len(profittax)) ]\n",
    "best = [ profittax[i]==max(profittax) for i in range(len(profittax))]\n",
    "worst = [ profittax[i]==min(profittax) for i in range(len(profittax))]\n",
    "print(profit)\n",
    "print(profittax)\n",
    "print(profitmarg)\n",
    "print(good)\n",
    "print(bad)\n",
    "print(best)\n",
    "print(worst)"
   ]
  },
  {
   "cell_type": "code",
   "execution_count": null,
   "metadata": {},
   "outputs": [],
   "source": []
  }
 ],
 "metadata": {
  "kernelspec": {
   "display_name": "Python 3",
   "language": "python",
   "name": "python3"
  },
  "language_info": {
   "codemirror_mode": {
    "name": "ipython",
    "version": 3
   },
   "file_extension": ".py",
   "mimetype": "text/x-python",
   "name": "python",
   "nbconvert_exporter": "python",
   "pygments_lexer": "ipython3",
   "version": "3.7.6"
  }
 },
 "nbformat": 4,
 "nbformat_minor": 1
}
