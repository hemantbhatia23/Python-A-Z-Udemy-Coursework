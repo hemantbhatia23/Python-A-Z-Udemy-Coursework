{
 "cells": [
  {
   "cell_type": "code",
   "execution_count": 1,
   "metadata": {},
   "outputs": [],
   "source": [
    "import numpy as np\n",
    "from numpy.random import randn"
   ]
  },
  {
   "cell_type": "code",
   "execution_count": 47,
   "metadata": {},
   "outputs": [
    {
     "data": {
      "text/plain": [
       "-0.14567845694345463"
      ]
     },
     "execution_count": 47,
     "metadata": {},
     "output_type": "execute_result"
    }
   ],
   "source": [
    "randn()"
   ]
  },
  {
   "cell_type": "code",
   "execution_count": 100,
   "metadata": {},
   "outputs": [
    {
     "name": "stdout",
     "output_type": "stream",
     "text": [
      "-0.759098661464473\n",
      "less than 1\n"
     ]
    }
   ],
   "source": [
    "# -2 -1 0 1 2\n",
    "x = randn()\n",
    "if x>1:\n",
    "    ans = \"GReater than 1\"\n",
    "else:\n",
    "    ans = \"less than 1\"\n",
    "print(x)\n",
    "print(ans)"
   ]
  },
  {
   "cell_type": "code",
   "execution_count": 116,
   "metadata": {},
   "outputs": [
    {
     "name": "stdout",
     "output_type": "stream",
     "text": [
      "-1.2666304602516048\n",
      "less than -1\n"
     ]
    }
   ],
   "source": [
    "# -2 -1 0 1 2\n",
    "x = randn()\n",
    "if x>1:\n",
    "    ans = \"GReater than 1\"\n",
    "else:\n",
    "    if x>=-1:\n",
    "        ans = \"BEtween -1 and 1\"\n",
    "    else:\n",
    "        ans = \"less than -1\"\n",
    "print(x)\n",
    "print(ans)"
   ]
  }
 ],
 "metadata": {
  "kernelspec": {
   "display_name": "Python 3",
   "language": "python",
   "name": "python3"
  },
  "language_info": {
   "codemirror_mode": {
    "name": "ipython",
    "version": 3
   },
   "file_extension": ".py",
   "mimetype": "text/x-python",
   "name": "python",
   "nbconvert_exporter": "python",
   "pygments_lexer": "ipython3",
   "version": "3.7.6"
  }
 },
 "nbformat": 4,
 "nbformat_minor": 4
}
